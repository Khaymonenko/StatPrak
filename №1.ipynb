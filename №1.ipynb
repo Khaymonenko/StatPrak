{
 "cells": [
  {
   "cell_type": "markdown",
   "metadata": {},
   "source": [
    "Task 1\n",
    "Make a tuple containing natural numbers, the square of which is a multiple of 3, 4, but not a multiple of 8 and not exceeding 12345."
   ]
  },
  {
   "cell_type": "code",
   "execution_count": 4,
   "metadata": {},
   "outputs": [
    {
     "name": "stdout",
     "output_type": "stream",
     "text": [
      "[6, 18, 30, 42, 54, 66, 78, 90, 102, 114, 126, 138, 150, 162, 174, 186, 198, 210, 222, 234, 246, 258, 270, 282, 294, 306, 318, 330, 342, 354, 366, 378, 390, 402, 414, 426, 438, 450, 462, 474, 486, 498, 510, 522, 534, 546, 558, 570, 582, 594, 606, 618, 630, 642, 654, 666, 678, 690, 702, 714, 726, 738, 750, 762, 774, 786, 798, 810, 822, 834, 846, 858, 870, 882, 894, 906, 918, 930, 942, 954, 966, 978, 990, 1002, 1014, 1026, 1038, 1050, 1062, 1074, 1086, 1098, 1110, 1122, 1134, 1146, 1158, 1170, 1182, 1194, 1206, 1218, 1230, 1242, 1254, 1266, 1278, 1290, 1302, 1314, 1326, 1338, 1350, 1362, 1374, 1386, 1398, 1410, 1422, 1434, 1446, 1458, 1470, 1482, 1494, 1506, 1518, 1530, 1542, 1554, 1566, 1578, 1590, 1602, 1614, 1626, 1638, 1650, 1662, 1674, 1686, 1698, 1710, 1722, 1734, 1746, 1758, 1770, 1782, 1794, 1806, 1818, 1830, 1842, 1854, 1866, 1878, 1890, 1902, 1914, 1926, 1938, 1950, 1962, 1974, 1986, 1998, 2010, 2022, 2034, 2046, 2058, 2070, 2082, 2094, 2106, 2118, 2130, 2142, 2154, 2166, 2178, 2190, 2202, 2214, 2226, 2238, 2250, 2262, 2274, 2286, 2298, 2310, 2322, 2334, 2346, 2358, 2370, 2382, 2394, 2406, 2418, 2430, 2442, 2454, 2466, 2478, 2490, 2502, 2514, 2526, 2538, 2550, 2562, 2574, 2586, 2598, 2610, 2622, 2634, 2646, 2658, 2670, 2682, 2694, 2706, 2718, 2730, 2742, 2754, 2766, 2778, 2790, 2802, 2814, 2826, 2838, 2850, 2862, 2874, 2886, 2898, 2910, 2922, 2934, 2946, 2958, 2970, 2982, 2994, 3006, 3018, 3030, 3042, 3054, 3066, 3078, 3090, 3102, 3114, 3126, 3138, 3150, 3162, 3174, 3186, 3198, 3210, 3222, 3234, 3246, 3258, 3270, 3282, 3294, 3306, 3318, 3330, 3342, 3354, 3366, 3378, 3390, 3402, 3414, 3426, 3438, 3450, 3462, 3474, 3486, 3498, 3510, 3522, 3534, 3546, 3558, 3570, 3582, 3594, 3606, 3618, 3630, 3642, 3654, 3666, 3678, 3690, 3702, 3714, 3726, 3738, 3750, 3762, 3774, 3786, 3798, 3810, 3822, 3834, 3846, 3858, 3870, 3882, 3894, 3906, 3918, 3930, 3942, 3954, 3966, 3978, 3990, 4002, 4014, 4026, 4038, 4050, 4062, 4074, 4086, 4098, 4110, 4122, 4134, 4146, 4158, 4170, 4182, 4194, 4206, 4218, 4230, 4242, 4254, 4266, 4278, 4290, 4302, 4314, 4326, 4338, 4350, 4362, 4374, 4386, 4398, 4410, 4422, 4434, 4446, 4458, 4470, 4482, 4494, 4506, 4518, 4530, 4542, 4554, 4566, 4578, 4590, 4602, 4614, 4626, 4638, 4650, 4662, 4674, 4686, 4698, 4710, 4722, 4734, 4746, 4758, 4770, 4782, 4794, 4806, 4818, 4830, 4842, 4854, 4866, 4878, 4890, 4902, 4914, 4926, 4938, 4950, 4962, 4974, 4986, 4998, 5010, 5022, 5034, 5046, 5058, 5070, 5082, 5094, 5106, 5118, 5130, 5142, 5154, 5166, 5178, 5190, 5202, 5214, 5226, 5238, 5250, 5262, 5274, 5286, 5298, 5310, 5322, 5334, 5346, 5358, 5370, 5382, 5394, 5406, 5418, 5430, 5442, 5454, 5466, 5478, 5490, 5502, 5514, 5526, 5538, 5550, 5562, 5574, 5586, 5598, 5610, 5622, 5634, 5646, 5658, 5670, 5682, 5694, 5706, 5718, 5730, 5742, 5754, 5766, 5778, 5790, 5802, 5814, 5826, 5838, 5850, 5862, 5874, 5886, 5898, 5910, 5922, 5934, 5946, 5958, 5970, 5982, 5994, 6006, 6018, 6030, 6042, 6054, 6066, 6078, 6090, 6102, 6114, 6126, 6138, 6150, 6162, 6174, 6186, 6198, 6210, 6222, 6234, 6246, 6258, 6270, 6282, 6294, 6306, 6318, 6330, 6342, 6354, 6366, 6378, 6390, 6402, 6414, 6426, 6438, 6450, 6462, 6474, 6486, 6498, 6510, 6522, 6534, 6546, 6558, 6570, 6582, 6594, 6606, 6618, 6630, 6642, 6654, 6666, 6678, 6690, 6702, 6714, 6726, 6738, 6750, 6762, 6774, 6786, 6798, 6810, 6822, 6834, 6846, 6858, 6870, 6882, 6894, 6906, 6918, 6930, 6942, 6954, 6966, 6978, 6990, 7002, 7014, 7026, 7038, 7050, 7062, 7074, 7086, 7098, 7110, 7122, 7134, 7146, 7158, 7170, 7182, 7194, 7206, 7218, 7230, 7242, 7254, 7266, 7278, 7290, 7302, 7314, 7326, 7338, 7350, 7362, 7374, 7386, 7398, 7410, 7422, 7434, 7446, 7458, 7470, 7482, 7494, 7506, 7518, 7530, 7542, 7554, 7566, 7578, 7590, 7602, 7614, 7626, 7638, 7650, 7662, 7674, 7686, 7698, 7710, 7722, 7734, 7746, 7758, 7770, 7782, 7794, 7806, 7818, 7830, 7842, 7854, 7866, 7878, 7890, 7902, 7914, 7926, 7938, 7950, 7962, 7974, 7986, 7998, 8010, 8022, 8034, 8046, 8058, 8070, 8082, 8094, 8106, 8118, 8130, 8142, 8154, 8166, 8178, 8190, 8202, 8214, 8226, 8238, 8250, 8262, 8274, 8286, 8298, 8310, 8322, 8334, 8346, 8358, 8370, 8382, 8394, 8406, 8418, 8430, 8442, 8454, 8466, 8478, 8490, 8502, 8514, 8526, 8538, 8550, 8562, 8574, 8586, 8598, 8610, 8622, 8634, 8646, 8658, 8670, 8682, 8694, 8706, 8718, 8730, 8742, 8754, 8766, 8778, 8790, 8802, 8814, 8826, 8838, 8850, 8862, 8874, 8886, 8898, 8910, 8922, 8934, 8946, 8958, 8970, 8982, 8994, 9006, 9018, 9030, 9042, 9054, 9066, 9078, 9090, 9102, 9114, 9126, 9138, 9150, 9162, 9174, 9186, 9198, 9210, 9222, 9234, 9246, 9258, 9270, 9282, 9294, 9306, 9318, 9330, 9342, 9354, 9366, 9378, 9390, 9402, 9414, 9426, 9438, 9450, 9462, 9474, 9486, 9498, 9510, 9522, 9534, 9546, 9558, 9570, 9582, 9594, 9606, 9618, 9630, 9642, 9654, 9666, 9678, 9690, 9702, 9714, 9726, 9738, 9750, 9762, 9774, 9786, 9798, 9810, 9822, 9834, 9846, 9858, 9870, 9882, 9894, 9906, 9918, 9930, 9942, 9954, 9966, 9978, 9990, 10002, 10014, 10026, 10038, 10050, 10062, 10074, 10086, 10098, 10110, 10122, 10134, 10146, 10158, 10170, 10182, 10194, 10206, 10218, 10230, 10242, 10254, 10266, 10278, 10290, 10302, 10314, 10326, 10338, 10350, 10362, 10374, 10386, 10398, 10410, 10422, 10434, 10446, 10458, 10470, 10482, 10494, 10506, 10518, 10530, 10542, 10554, 10566, 10578, 10590, 10602, 10614, 10626, 10638, 10650, 10662, 10674, 10686, 10698, 10710, 10722, 10734, 10746, 10758, 10770, 10782, 10794, 10806, 10818, 10830, 10842, 10854, 10866, 10878, 10890, 10902, 10914, 10926, 10938, 10950, 10962, 10974, 10986, 10998, 11010, 11022, 11034, 11046, 11058, 11070, 11082, 11094, 11106, 11118, 11130, 11142, 11154, 11166, 11178, 11190, 11202, 11214, 11226, 11238, 11250, 11262, 11274, 11286, 11298, 11310, 11322, 11334, 11346, 11358, 11370, 11382, 11394, 11406, 11418, 11430, 11442, 11454, 11466, 11478, 11490, 11502, 11514, 11526, 11538, 11550, 11562, 11574, 11586, 11598, 11610, 11622, 11634, 11646, 11658, 11670, 11682, 11694, 11706, 11718, 11730, 11742, 11754, 11766, 11778, 11790, 11802, 11814, 11826, 11838, 11850, 11862, 11874, 11886, 11898, 11910, 11922, 11934, 11946, 11958, 11970, 11982, 11994, 12006, 12018, 12030, 12042, 12054, 12066, 12078, 12090, 12102, 12114, 12126, 12138, 12150, 12162, 12174, 12186, 12198, 12210, 12222, 12234, 12246, 12258, 12270, 12282, 12294, 12306, 12318, 12330, 12342]\n"
     ]
    }
   ],
   "source": [
    "t = [n for n in range(1, 12346) if n**2 % 3 == 0 and n**2 % 4 == 0 and n**2 % 8 != 0]\n",
    "print(t)"
   ]
  },
  {
   "cell_type": "markdown",
   "metadata": {},
   "source": [
    "Task 2\n",
    "Write a function that takes a two-dimensional array and a string as input and returns an array rotated 90 degrees counterclockwise if the string 'left' was passed, and clockwise if the string 'right' was passed.\n",
    "\n",
    "Example for input:  ⎡⎣⎢147258369⎤⎦⎥ .\n",
    "If the string 'left' is passed, the function should return  ⎡⎣⎢321654987⎤⎦⎥ , and if the string 'right' is passed, the function should return  ⎡⎣⎢789456123⎤⎦⎥ ."
   ]
  },
  {
   "cell_type": "code",
   "execution_count": 3,
   "metadata": {},
   "outputs": [
    {
     "name": "stdout",
     "output_type": "stream",
     "text": [
      "[[1, 2, 3], [4, 5, 6], [7, 8, 9]]\n",
      "[[3, 6, 9], [2, 5, 8], [1, 4, 7]]\n",
      "[[1, 4, 7], [2, 5, 8], [3, 6, 9]]\n"
     ]
    }
   ],
   "source": [
    "def rotate(mat, rotate_str):\n",
    "    if rotate_str == 'left':\n",
    "        return [list(row) for row in list(zip(*mat))[::-1]]\n",
    "    if rotate_str == 'right':\n",
    "        return [list(row) for row in list(zip(*mat))]\n",
    "m = [[1, 2, 3], [4, 5, 6], [7, 8, 9]]\n",
    "print(m)\n",
    "print(rotate(m, 'left'))\n",
    "print(rotate(m, 'right'))"
   ]
  },
  {
   "cell_type": "markdown",
   "metadata": {},
   "source": [
    "Task 3\n",
    "Write a function that takes a string as input and returns a dictionary containing the number of occurrences of each character in the string.\n",
    "\n",
    "Example for the string 'hello, world!': {'h': 1, 'e': 1, 'l': 3, 'o': 2, ',': 1, ' ': 1, 'w': 1, 'r': 1, 'd': 1, '!': 1}."
   ]
  },
  {
   "cell_type": "code",
   "execution_count": 7,
   "metadata": {},
   "outputs": [
    {
     "name": "stdout",
     "output_type": "stream",
     "text": [
      "{'h': 1, 'e': 1, 'l': 3, 'o': 2, ',': 1, ' ': 1, 'w': 1, 'r': 1, 'd': 1, '!': 1}\n"
     ]
    }
   ],
   "source": [
    "word = 'hello, world!'\n",
    "letters = {x: word.count(x) for x in word}\n",
    "print(letters)"
   ]
  },
  {
   "cell_type": "markdown",
   "metadata": {},
   "source": [
    "Task 4\n",
    "Description\n",
    "You are required to design and implement a system for managing books and users in a library. The system should allow for the management of books (adding, deleting, searching by various criteria) and users (registration, deletion, searching), as well as tracking the history of interactions between them (issuing and returning books).\n",
    "\n",
    "Tasks\n",
    "Book Class:\n",
    "\n",
    "Attributes: title, author, year of publication, ISBN, number of copies.\n",
    "Methods: constructor, methods to get information about the book, method to change the number of copies (when issuing and returning books).\n",
    "User Class:\n",
    "\n",
    "Attributes: user name, library card number, list of borrowed books.\n",
    "Methods: constructor, methods for user registration, methods for adding and removing books from the borrowed list.\n",
    "Library Class:\n",
    "\n",
    "Attributes: list of books, list of users, transaction history (who, when, which book was borrowed and returned).\n",
    "Methods: constructor, methods for adding and deleting books and users, methods for issuing and returning books, searching for books and users by various criteria, method to display the transaction history.\n",
    "Assignment\n",
    "Implement the Book, User, and Library classes with the specified attributes and methods.\n",
    "Create several books and users, and add them to the library system.\n",
    "Implement scenarios for issuing books to users and their return.\n",
    "Display the transaction history to show how books were issued and returned."
   ]
  },
  {
   "cell_type": "code",
   "execution_count": 9,
   "metadata": {},
   "outputs": [
    {
     "name": "stdout",
     "output_type": "stream",
     "text": [
      "Book '1984' issued to Alice.\n",
      "Book 'To Kill a Mockingbird' issued to Bob.\n",
      "Book 'The Great Gatsby' issued to Alice.\n",
      "Book '1984' returned by Alice.\n",
      "Найденные книги автора George Orwell:\n",
      "'1984' by George Orwell (1949) - ISBN: ISBN001, Copies: 3\n",
      "История транзакций:\n",
      "{'user': 'Alice', 'library_card': 'CARD1001', 'book': '1984', 'action': 'issued'}\n",
      "{'user': 'Bob', 'library_card': 'CARD1002', 'book': 'To Kill a Mockingbird', 'action': 'issued'}\n",
      "{'user': 'Alice', 'library_card': 'CARD1001', 'book': 'The Great Gatsby', 'action': 'issued'}\n",
      "{'user': 'Alice', 'library_card': 'CARD1001', 'book': '1984', 'action': 'returned'}\n"
     ]
    }
   ],
   "source": [
    "class Book:\n",
    "    def __init__(self, title, author, year, isbn, copies):\n",
    "        self.title = title\n",
    "        self.author = author\n",
    "        self.year = year\n",
    "        self.isbn = isbn\n",
    "        self.copies = copies\n",
    "\n",
    "    def get_info(self):\n",
    "        return f\"'{self.title}' by {self.author} ({self.year}) - ISBN: {self.isbn}, Copies: {self.copies}\"\n",
    "\n",
    "    def change_copies(self, amount):\n",
    "        self.copies += amount\n",
    "\n",
    "class User:\n",
    "    def __init__(self, name, library_card):\n",
    "        self.name = name\n",
    "        self.library_card = library_card\n",
    "        self.borrowed_books = []\n",
    "\n",
    "    def borrow_book(self, book):\n",
    "        self.borrowed_books.append(book)\n",
    "\n",
    "    def return_book(self, book):\n",
    "        if book in self.borrowed_books:\n",
    "            self.borrowed_books.remove(book)\n",
    "\n",
    "    def get_info(self):\n",
    "        books = ', '.join([book.title for book in self.borrowed_books])\n",
    "        return f\"User: {self.name}, Card: {self.library_card}, Borrowed: [{books}]\"\n",
    "\n",
    "class Library:\n",
    "    def __init__(self):\n",
    "        self.books = []\n",
    "        self.users = []\n",
    "        self.history = []\n",
    "\n",
    "    def add_book(self, book):\n",
    "        self.books.append(book)\n",
    "\n",
    "    def remove_book(self, isbn):\n",
    "        self.books = [book for book in self.books if book.isbn != isbn]\n",
    "\n",
    "    def add_user(self, user):\n",
    "        self.users.append(user)\n",
    "\n",
    "    def remove_user(self, library_card):\n",
    "        self.users = [user for user in self.users if user.library_card != library_card]\n",
    "\n",
    "    def search_books(self, **criteria):\n",
    "        result = self.books\n",
    "        for key, value in criteria.items():\n",
    "            result = [book for book in result if getattr(book, key) == value]\n",
    "        return result\n",
    "\n",
    "    def search_users(self, **criteria):\n",
    "        result = self.users\n",
    "        for key, value in criteria.items():\n",
    "            result = [user for user in result if getattr(user, key) == value]\n",
    "        return result\n",
    "\n",
    "    def issue_book(self, library_card, isbn):\n",
    "        user = next((u for u in self.users if u.library_card == library_card), None)\n",
    "        book = next((b for b in self.books if b.isbn == isbn), None)\n",
    "        if user and book:\n",
    "            if book.copies > 0:\n",
    "                book.change_copies(-1)\n",
    "                user.borrow_book(book)\n",
    "                self.history.append({\n",
    "                    'user': user.name,\n",
    "                    'library_card': user.library_card,\n",
    "                    'book': book.title,\n",
    "                    'action': 'issued',\n",
    "                })\n",
    "                print(f\"Book '{book.title}' issued to {user.name}.\")\n",
    "            else:\n",
    "                print(f\"No copies available for '{book.title}'.\")\n",
    "        else:\n",
    "            print(\"User or Book not found.\")\n",
    "\n",
    "    def return_book(self, library_card, isbn):\n",
    "        user = next((u for u in self.users if u.library_card == library_card), None)\n",
    "        book = next((b for b in self.books if b.isbn == isbn), None)\n",
    "        if user and book:\n",
    "            if book in user.borrowed_books:\n",
    "                book.change_copies(1)\n",
    "                user.return_book(book)\n",
    "                self.history.append({\n",
    "                    'user': user.name,\n",
    "                    'library_card': user.library_card,\n",
    "                    'book': book.title,\n",
    "                    'action': 'returned',\n",
    "                })\n",
    "                print(f\"Book '{book.title}' returned by {user.name}.\")\n",
    "            else:\n",
    "                print(f\"{user.name} did not borrow '{book.title}'.\")\n",
    "        else:\n",
    "            print(\"User or Book not found.\")\n",
    "\n",
    "    def display_history(self):\n",
    "        for record in self.history:\n",
    "            print(record)\n",
    "\n",
    "if __name__ == \"__main__\":\n",
    "    library = Library()\n",
    "    book1 = Book(\"1984\", \"George Orwell\", 1949, \"ISBN001\", 3)\n",
    "    book2 = Book(\"To Kill a Mockingbird\", \"Harper Lee\", 1960, \"ISBN002\", 2)\n",
    "    book3 = Book(\"The Great Gatsby\", \"F. Scott Fitzgerald\", 1925, \"ISBN003\", 1)\n",
    "    library.add_book(book1)\n",
    "    library.add_book(book2)\n",
    "    library.add_book(book3)\n",
    "    user1 = User(\"Alice\", \"CARD1001\")\n",
    "    user2 = User(\"Bob\", \"CARD1002\")\n",
    "    library.add_user(user1)\n",
    "    library.add_user(user2)\n",
    "    library.issue_book(\"CARD1001\", \"ISBN001\")\n",
    "    library.issue_book(\"CARD1002\", \"ISBN002\")\n",
    "    library.issue_book(\"CARD1001\", \"ISBN003\")\n",
    "    library.return_book(\"CARD1001\", \"ISBN001\")\n",
    "    found_books = library.search_books(author=\"George Orwell\")\n",
    "    print(\"Найденные книги автора George Orwell:\")\n",
    "    for b in found_books:\n",
    "        print(b.get_info())\n",
    "    print(\"История транзакций:\")\n",
    "    library.display_history()\n"
   ]
  },
  {
   "cell_type": "markdown",
   "metadata": {},
   "source": [
    "Task 5\n",
    "Explain why list b changes after the execution of the following code:"
   ]
  },
  {
   "cell_type": "code",
   "execution_count": 8,
   "metadata": {},
   "outputs": [
    {
     "name": "stdout",
     "output_type": "stream",
     "text": [
      "[4, 2, 3]\n"
     ]
    }
   ],
   "source": [
    "a = [1, 2, 3]\n",
    "b = a\n",
    "a[0] = 4\n",
    "print(b)"
   ]
  },
  {
   "cell_type": "markdown",
   "metadata": {},
   "source": [
    "Потому что b ссылается на массив а, а не приравнивается в возможном смысле"
   ]
  },
  {
   "cell_type": "markdown",
   "metadata": {},
   "source": [
    "Task 6\n",
    "Let\n",
    "A=∑i=1100001i2,B=∑i=1000011i2. \n",
    "Calculate the values of  A  and  B  and compare them. What do you observe? Explain why this happens. What is the best way to calculate the value of  ∑i=1100001i2 ?"
   ]
  },
  {
   "cell_type": "code",
   "execution_count": 11,
   "metadata": {},
   "outputs": [
    {
     "name": "stdout",
     "output_type": "stream",
     "text": [
      "1.6439355646845575 \n",
      " 1.6439355646845557\n"
     ]
    }
   ],
   "source": [
    "A = sum(1/x**2 for x in range(1, 1002))\n",
    "B = sum(1/x**2 for x in range(1001, 0, -1))\n",
    "print(A, '\\n', B)"
   ]
  },
  {
   "cell_type": "markdown",
   "metadata": {},
   "source": [
    "Различия из-за алгоритмов округления питона. Лучше всего использовать сумму прямым ходом"
   ]
  }
 ],
 "metadata": {
  "kernelspec": {
   "display_name": "Python 3",
   "language": "python",
   "name": "python3"
  },
  "language_info": {
   "codemirror_mode": {
    "name": "ipython",
    "version": 3
   },
   "file_extension": ".py",
   "mimetype": "text/x-python",
   "name": "python",
   "nbconvert_exporter": "python",
   "pygments_lexer": "ipython3",
   "version": "3.10.0"
  }
 },
 "nbformat": 4,
 "nbformat_minor": 2
}
