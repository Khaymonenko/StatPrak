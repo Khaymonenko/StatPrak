{
 "cells": [
  {
   "cell_type": "markdown",
   "metadata": {},
   "source": [
    "Task 1\n",
    "Make a tuple containing natural numbers, the square of which is a multiple of 3, 4, but not a multiple of 8 and not exceeding 12345."
   ]
  },
  {
   "cell_type": "code",
   "execution_count": 1,
   "metadata": {},
   "outputs": [
    {
     "name": "stdout",
     "output_type": "stream",
     "text": [
      "[6, 18, 30, 42, 54, 66, 78, 90, 102]\n"
     ]
    }
   ],
   "source": [
    "t = [n for n in range(6, 12346, 12) if n**2 < 12346]\n",
    "print(t)"
   ]
  },
  {
   "cell_type": "markdown",
   "metadata": {},
   "source": [
    "Task 2\n",
    "Write a function that takes a two-dimensional array and a string as input and returns an array rotated 90 degrees counterclockwise if the string 'left' was passed, and clockwise if the string 'right' was passed.\n",
    "\n",
    "Example for input:  ⎡⎣⎢147258369⎤⎦⎥ .\n",
    "If the string 'left' is passed, the function should return  ⎡⎣⎢321654987⎤⎦⎥ , and if the string 'right' is passed, the function should return  ⎡⎣⎢789456123⎤⎦⎥ ."
   ]
  },
  {
   "cell_type": "code",
   "execution_count": 3,
   "metadata": {},
   "outputs": [
    {
     "name": "stdout",
     "output_type": "stream",
     "text": [
      "[[1, 2, 3], [4, 5, 6], [7, 8, 9]]\n",
      "[[3, 6, 9], [2, 5, 8], [1, 4, 7]]\n",
      "[[1, 4, 7], [2, 5, 8], [3, 6, 9]]\n"
     ]
    }
   ],
   "source": [
    "def rotate(mat, rotate_str):\n",
    "    if rotate_str == 'left':\n",
    "        return [list(row) for row in list(zip(*mat))[::-1]]\n",
    "    if rotate_str == 'right':\n",
    "        return [list(row) for row in list(zip(*mat))]\n",
    "m = [[1, 2, 3], [4, 5, 6], [7, 8, 9]]\n",
    "print(m)\n",
    "print(rotate(m, 'left'))\n",
    "print(rotate(m, 'right'))"
   ]
  },
  {
   "cell_type": "markdown",
   "metadata": {},
   "source": [
    "Task 3\n",
    "Write a function that takes a string as input and returns a dictionary containing the number of occurrences of each character in the string.\n",
    "\n",
    "Example for the string 'hello, world!': {'h': 1, 'e': 1, 'l': 3, 'o': 2, ',': 1, ' ': 1, 'w': 1, 'r': 1, 'd': 1, '!': 1}."
   ]
  },
  {
   "cell_type": "code",
   "execution_count": 7,
   "metadata": {},
   "outputs": [
    {
     "name": "stdout",
     "output_type": "stream",
     "text": [
      "{'h': 1, 'e': 1, 'l': 3, 'o': 2, ',': 1, ' ': 1, 'w': 1, 'r': 1, 'd': 1, '!': 1}\n"
     ]
    }
   ],
   "source": [
    "word = 'hello, world!'\n",
    "letters = {x: word.count(x) for x in word}\n",
    "print(letters)"
   ]
  },
  {
   "cell_type": "markdown",
   "metadata": {},
   "source": [
    "Task 4\n",
    "Description\n",
    "You are required to design and implement a system for managing books and users in a library. The system should allow for the management of books (adding, deleting, searching by various criteria) and users (registration, deletion, searching), as well as tracking the history of interactions between them (issuing and returning books).\n",
    "\n",
    "Tasks\n",
    "Book Class:\n",
    "\n",
    "Attributes: title, author, year of publication, ISBN, number of copies.\n",
    "Methods: constructor, methods to get information about the book, method to change the number of copies (when issuing and returning books).\n",
    "User Class:\n",
    "\n",
    "Attributes: user name, library card number, list of borrowed books.\n",
    "Methods: constructor, methods for user registration, methods for adding and removing books from the borrowed list.\n",
    "Library Class:\n",
    "\n",
    "Attributes: list of books, list of users, transaction history (who, when, which book was borrowed and returned).\n",
    "Methods: constructor, methods for adding and deleting books and users, methods for issuing and returning books, searching for books and users by various criteria, method to display the transaction history.\n",
    "Assignment\n",
    "Implement the Book, User, and Library classes with the specified attributes and methods.\n",
    "Create several books and users, and add them to the library system.\n",
    "Implement scenarios for issuing books to users and their return.\n",
    "Display the transaction history to show how books were issued and returned."
   ]
  },
  {
   "cell_type": "code",
   "execution_count": 9,
   "metadata": {},
   "outputs": [
    {
     "name": "stdout",
     "output_type": "stream",
     "text": [
      "Book '1984' issued to Alice.\n",
      "Book 'To Kill a Mockingbird' issued to Bob.\n",
      "Book 'The Great Gatsby' issued to Alice.\n",
      "Book '1984' returned by Alice.\n",
      "Найденные книги автора George Orwell:\n",
      "'1984' by George Orwell (1949) - ISBN: ISBN001, Copies: 3\n",
      "История транзакций:\n",
      "{'user': 'Alice', 'library_card': 'CARD1001', 'book': '1984', 'action': 'issued'}\n",
      "{'user': 'Bob', 'library_card': 'CARD1002', 'book': 'To Kill a Mockingbird', 'action': 'issued'}\n",
      "{'user': 'Alice', 'library_card': 'CARD1001', 'book': 'The Great Gatsby', 'action': 'issued'}\n",
      "{'user': 'Alice', 'library_card': 'CARD1001', 'book': '1984', 'action': 'returned'}\n"
     ]
    }
   ],
   "source": [
    "class Book:\n",
    "    def __init__(self, title, author, year, isbn, copies):\n",
    "        self.title = title\n",
    "        self.author = author\n",
    "        self.year = year\n",
    "        self.isbn = isbn\n",
    "        self.copies = copies\n",
    "\n",
    "    def get_info(self):\n",
    "        return f\"'{self.title}' by {self.author} ({self.year}) - ISBN: {self.isbn}, Copies: {self.copies}\"\n",
    "\n",
    "    def change_copies(self, amount):\n",
    "        self.copies += amount\n",
    "\n",
    "class User:\n",
    "    def __init__(self, name, library_card):\n",
    "        self.name = name\n",
    "        self.library_card = library_card\n",
    "        self.borrowed_books = []\n",
    "\n",
    "    def borrow_book(self, book):\n",
    "        self.borrowed_books.append(book)\n",
    "\n",
    "    def return_book(self, book):\n",
    "        if book in self.borrowed_books:\n",
    "            self.borrowed_books.remove(book)\n",
    "\n",
    "    def get_info(self):\n",
    "        books = ', '.join([book.title for book in self.borrowed_books])\n",
    "        return f\"User: {self.name}, Card: {self.library_card}, Borrowed: [{books}]\"\n",
    "\n",
    "class Library:\n",
    "    def __init__(self):\n",
    "        self.books = []\n",
    "        self.users = []\n",
    "        self.history = []\n",
    "\n",
    "    def add_book(self, book):\n",
    "        self.books.append(book)\n",
    "\n",
    "    def remove_book(self, isbn):\n",
    "        self.books = [book for book in self.books if book.isbn != isbn]\n",
    "\n",
    "    def add_user(self, user):\n",
    "        self.users.append(user)\n",
    "\n",
    "    def remove_user(self, library_card):\n",
    "        self.users = [user for user in self.users if user.library_card != library_card]\n",
    "\n",
    "    def search_books(self, **criteria):\n",
    "        result = self.books\n",
    "        for key, value in criteria.items():\n",
    "            result = [book for book in result if getattr(book, key) == value]\n",
    "        return result\n",
    "\n",
    "    def search_users(self, **criteria):\n",
    "        result = self.users\n",
    "        for key, value in criteria.items():\n",
    "            result = [user for user in result if getattr(user, key) == value]\n",
    "        return result\n",
    "\n",
    "    def issue_book(self, library_card, isbn):\n",
    "        user = next((u for u in self.users if u.library_card == library_card), None)\n",
    "        book = next((b for b in self.books if b.isbn == isbn), None)\n",
    "        if user and book:\n",
    "            if book.copies > 0:\n",
    "                book.change_copies(-1)\n",
    "                user.borrow_book(book)\n",
    "                self.history.append({\n",
    "                    'user': user.name,\n",
    "                    'library_card': user.library_card,\n",
    "                    'book': book.title,\n",
    "                    'action': 'issued',\n",
    "                })\n",
    "                print(f\"Book '{book.title}' issued to {user.name}.\")\n",
    "            else:\n",
    "                print(f\"No copies available for '{book.title}'.\")\n",
    "        else:\n",
    "            print(\"User or Book not found.\")\n",
    "\n",
    "    def return_book(self, library_card, isbn):\n",
    "        user = next((u for u in self.users if u.library_card == library_card), None)\n",
    "        book = next((b for b in self.books if b.isbn == isbn), None)\n",
    "        if user and book:\n",
    "            if book in user.borrowed_books:\n",
    "                book.change_copies(1)\n",
    "                user.return_book(book)\n",
    "                self.history.append({\n",
    "                    'user': user.name,\n",
    "                    'library_card': user.library_card,\n",
    "                    'book': book.title,\n",
    "                    'action': 'returned',\n",
    "                })\n",
    "                print(f\"Book '{book.title}' returned by {user.name}.\")\n",
    "            else:\n",
    "                print(f\"{user.name} did not borrow '{book.title}'.\")\n",
    "        else:\n",
    "            print(\"User or Book not found.\")\n",
    "\n",
    "    def display_history(self):\n",
    "        for record in self.history:\n",
    "            print(record)\n",
    "\n",
    "if __name__ == \"__main__\":\n",
    "    library = Library()\n",
    "    book1 = Book(\"1984\", \"George Orwell\", 1949, \"ISBN001\", 3)\n",
    "    book2 = Book(\"To Kill a Mockingbird\", \"Harper Lee\", 1960, \"ISBN002\", 2)\n",
    "    book3 = Book(\"The Great Gatsby\", \"F. Scott Fitzgerald\", 1925, \"ISBN003\", 1)\n",
    "    library.add_book(book1)\n",
    "    library.add_book(book2)\n",
    "    library.add_book(book3)\n",
    "    user1 = User(\"Alice\", \"CARD1001\")\n",
    "    user2 = User(\"Bob\", \"CARD1002\")\n",
    "    library.add_user(user1)\n",
    "    library.add_user(user2)\n",
    "    library.issue_book(\"CARD1001\", \"ISBN001\")\n",
    "    library.issue_book(\"CARD1002\", \"ISBN002\")\n",
    "    library.issue_book(\"CARD1001\", \"ISBN003\")\n",
    "    library.return_book(\"CARD1001\", \"ISBN001\")\n",
    "    found_books = library.search_books(author=\"George Orwell\")\n",
    "    print(\"Найденные книги автора George Orwell:\")\n",
    "    for b in found_books:\n",
    "        print(b.get_info())\n",
    "    print(\"История транзакций:\")\n",
    "    library.display_history()\n"
   ]
  },
  {
   "cell_type": "markdown",
   "metadata": {},
   "source": [
    "Task 5\n",
    "Explain why list b changes after the execution of the following code:"
   ]
  },
  {
   "cell_type": "code",
   "execution_count": 8,
   "metadata": {},
   "outputs": [
    {
     "name": "stdout",
     "output_type": "stream",
     "text": [
      "[4, 2, 3]\n"
     ]
    }
   ],
   "source": [
    "a = [1, 2, 3]\n",
    "b = a\n",
    "a[0] = 4\n",
    "print(b)"
   ]
  },
  {
   "cell_type": "markdown",
   "metadata": {},
   "source": [
    "При присвоении b а, b не создает список, а просто получается туже ссылку на список [1, 2, 3]. Соответвенно при изменение а, меняется и b, потому что меняют данные с места, куда ведет ссылка b."
   ]
  },
  {
   "cell_type": "markdown",
   "metadata": {},
   "source": [
    "Task 6\n",
    "Let\n",
    "$$A = \\sum_{i=1}^{10000} \\frac{1}{i^2},\\quad B=\\sum_{i=10000}^{1} \\frac{1}{i^2}.$$\n",
    "Calculate the values of $A$ and $B$ and compare them. What do you observe? Explain why this happens. What is the best way to calculate the value of $\\sum\\limits_{i=1}^{10000} \\dfrac{1}{i^2}$?"
   ]
  },
  {
   "cell_type": "code",
   "execution_count": 11,
   "metadata": {},
   "outputs": [
    {
     "name": "stdout",
     "output_type": "stream",
     "text": [
      "1.6439355646845575 \n",
      " 1.6439355646845557\n"
     ]
    }
   ],
   "source": [
    "A = sum(1/x**2 for x in range(1, 1002))\n",
    "B = sum(1/x**2 for x in range(1001, 0, -1))\n",
    "print(A, '\\n', B)"
   ]
  },
  {
   "cell_type": "markdown",
   "metadata": {},
   "source": [
    "Лучше считать обратным ходом, потому что наибольшие значения сначала учитываются и меньше подвержены изменениям точности"
   ]
  }
 ],
 "metadata": {
  "kernelspec": {
   "display_name": "Python 3",
   "language": "python",
   "name": "python3"
  },
  "language_info": {
   "codemirror_mode": {
    "name": "ipython",
    "version": 3
   },
   "file_extension": ".py",
   "mimetype": "text/x-python",
   "name": "python",
   "nbconvert_exporter": "python",
   "pygments_lexer": "ipython3",
   "version": "3.10.0"
  }
 },
 "nbformat": 4,
 "nbformat_minor": 2
}
